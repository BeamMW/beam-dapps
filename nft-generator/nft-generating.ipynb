{
 "cells": [
  {
   "cell_type": "code",
   "execution_count": null,
   "outputs": [],
   "source": [
    "!pip3 install numpy Pillow"
   ],
   "metadata": {
    "collapsed": false,
    "pycharm": {
     "name": "#%%\n"
    }
   }
  },
  {
   "cell_type": "code",
   "execution_count": 1,
   "outputs": [],
   "source": [
    "import numpy as np\n",
    "import random\n",
    "from PIL import Image, ImageDraw\n",
    "from copy import deepcopy"
   ],
   "metadata": {
    "collapsed": false,
    "pycharm": {
     "name": "#%%\n"
    }
   }
  },
  {
   "cell_type": "code",
   "execution_count": 2,
   "outputs": [],
   "source": [
    "def generate_random_num(distribution=\"uniform\"):\n",
    "    if distribution == \"uniform\":\n",
    "        return random.randint(0, 2 ** 32 - 1)\n",
    "    else:\n",
    "        return int(np.clip(random.normalvariate(2 ** 16, 2 ** 16), 0, 2 ** 32 - 1))"
   ],
   "metadata": {
    "collapsed": false,
    "pycharm": {
     "name": "#%%\n"
    }
   }
  },
  {
   "cell_type": "code",
   "execution_count": 3,
   "outputs": [],
   "source": [
    "def concat_num_parts(upper, lower):\n",
    "    return upper * (2 ** 32) + lower"
   ],
   "metadata": {
    "collapsed": false,
    "pycharm": {
     "name": "#%%\n"
    }
   }
  },
  {
   "cell_type": "code",
   "execution_count": 4,
   "outputs": [],
   "source": [
    "def rotate(angle, pt):\n",
    "    return np.array([\n",
    "        [np.sin(angle), np.cos(angle)],\n",
    "        [-np.cos(angle), np.sin(angle)]\n",
    "    ]) @ np.array([[pt[0]], [pt[1]]]).flatten()"
   ],
   "metadata": {
    "collapsed": false,
    "pycharm": {
     "name": "#%%\n"
    }
   }
  },
  {
   "cell_type": "code",
   "execution_count": 18,
   "outputs": [],
   "source": [
    "def draw_random_triangles(tr_hash, triangles_points):\n",
    "    im = Image.new('RGB', (400, 400))\n",
    "    draw = ImageDraw.Draw(im)\n",
    "\n",
    "    start_color = [1, 1, 1]\n",
    "    color_steps = [((tr_hash & sum(2 ** k for k in range(start, start + 8))) >> start) for start in range(0, 17, 8)]\n",
    "    if color_steps[0] == 0:\n",
    "        for i in range(3):\n",
    "            color_steps[i] = 5\n",
    "            start_color[i] = 50\n",
    "    amount_of_triangles = 0\n",
    "    for j, triangle in enumerate(triangles_points):\n",
    "        if tr_hash & 2 ** (j + 8) == 0:\n",
    "            continue\n",
    "        new_triangles = triangle\n",
    "        amount_of_triangles += 1\n",
    "        for i in range(3):\n",
    "            new_triangles[i][0] += 200\n",
    "            new_triangles[i][1] = 200 - new_triangles[i][1]\n",
    "        a, b, c = new_triangles\n",
    "        draw.polygon([(a[0], a[1]), (b[0], b[1]), (c[0], c[1])], outline=(start_color[0], start_color[1], start_color[2]))\n",
    "        for i in range(3):\n",
    "            start_color[i] += color_steps[i]\n",
    "            start_color[i] = np.clip(int(start_color[i]), 0, 255)\n",
    "            start_color[i] = int(start_color[i])\n",
    "    for y in range(400):\n",
    "        for x in range(400):\n",
    "            if im.getpixel((x, y)) == (0, 0, 0):\n",
    "                im.putpixel((x, y), value=tuple(150 - int(amount_of_triangles * (150 / 40)) for _ in range(3)))\n",
    "    return im"
   ],
   "metadata": {
    "collapsed": false,
    "pycharm": {
     "name": "#%%\n"
    }
   }
  },
  {
   "cell_type": "code",
   "execution_count": 6,
   "outputs": [],
   "source": [
    "triangle_angle_range = list(np.linspace(0, 360, 40))\n",
    "radiuses = list(np.linspace(100, 200, 40))\n",
    "triangles_points = [(rotate(angle, (0, r)), rotate(angle, (-r * np.sqrt(3) / 2, -r / 2)), rotate(angle, (r * np.sqrt(3) / 2, -r / 2))) for angle, r in zip(triangle_angle_range,\n",
    "                                                                                                                                                           radiuses)]"
   ],
   "metadata": {
    "collapsed": false,
    "pycharm": {
     "name": "#%%\n"
    }
   }
  },
  {
   "cell_type": "code",
   "execution_count": 38,
   "outputs": [
    {
     "data": {
      "text/plain": "<PIL.Image.Image image mode=RGB size=400x400 at 0x7F6BA47426D0>",
      "image/png": "[encoded data removed]"
     },
     "execution_count": 38,
     "metadata": {},
     "output_type": "execute_result"
    }
   ],
   "source": [
    "draw_random_triangles(concat_num_parts(generate_random_num(), generate_random_num()), deepcopy(triangles_points))"
   ],
   "metadata": {
    "collapsed": false,
    "pycharm": {
     "name": "#%%\n"
    }
   }
  }
 ],
 "metadata": {
  "kernelspec": {
   "display_name": "Python 3",
   "language": "python",
   "name": "python3"
  },
  "language_info": {
   "codemirror_mode": {
    "name": "ipython",
    "version": 2
   },
   "file_extension": ".py",
   "mimetype": "text/x-python",
   "name": "python",
   "nbconvert_exporter": "python",
   "pygments_lexer": "ipython2",
   "version": "2.7.6"
  }
 },
 "nbformat": 4,
 "nbformat_minor": 0
}